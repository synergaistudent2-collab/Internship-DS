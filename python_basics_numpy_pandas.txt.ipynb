{
 "cells": [
  {
   "cell_type": "markdown",
   "metadata": {},
   "source": [
    "# Programming Fundamentals: Python Basics with NumPy and Pandas\n",
    "\n",
    "## Introduction\n",
    "This notebook introduces core Python programming concepts and basic data analysis using NumPy and Pandas. It is designed for beginners with minimal prior experience. You will learn:\n",
    "- Python fundamentals (variables, data types, conditionals, loops, functions)\n",
    "- Working with collections (lists, tuples, dictionaries, sets)\n",
    "- Basic file input/output (reading/writing text and CSV files)\n",
    "- NumPy for numerical computations (arrays, indexing, operations, statistics)\n",
    "- Pandas for data analysis (Series, DataFrames, filtering, grouping)\n",
    "\n",
    "### Prerequisites\n",
    "- Python 3.10 or later\n",
    "- Libraries: `numpy`, `pandas`, (optional) `matplotlib`\n",
    "- A sample dataset (`sample_data.csv`) included in the same directory\n",
    "\n",
    "### How to Run\n",
    "1. Set up a virtual environment: `python -m venv venv`\n",
    "2. Activate it: `source venv/bin/activate` (Linux/Mac) or `venv\\Scripts\\activate` (Windows)\n",
    "3. Install dependencies: `pip install -r requirements.txt`\n",
    "4. Launch Jupyter: `jupyter lab` or `jupyter notebook`\n",
    "5. Open and run this notebook top-to-bottom.\n",
    "\n",
    "Let's get started!"
   ]
  },
  {
   "cell_type": "markdown",
   "metadata": {},
   "source": [
    "## Section 1: Python Fundamentals\n",
    "\n",
    "### Variables and Data Types\n",
    "Variables store data. Python supports types like integers, floats, strings, and booleans."
   ]
  },
  {
   "cell_type": "code",
   "execution_count": null,
   "metadata": {},
   "outputs": [],
   "source": [
    "# Integer, float, string, boolean\n",
    "age = 25  # Integer\n",
    "height = 5.9  # Float\n",
    "name = \"Alice\"  # String\n",
    "is_student = True  # Boolean\n",
    "\n",
    "print(f\"Name: {name}, Age: {age}, Height: {height}, Student: {is_student}\")\n",
    "print(type(age), type(height), type(name), type(is_student))"
   ]
  },
  {
   "cell_type": "markdown",
   "metadata": {},
   "source": [
    "### Operators\n",
    "Arithmetic: `+`, `-`, `*`, `/`, `//` (floor division), `%` (modulus), `**` (exponent).\n",
    "Comparison: `==`, `!=`, `<`, `>`, `<=`, `>=`."
   ]
  },
  {
   "cell_type": "code",
   "execution_count": null,
   "metadata": {},
   "outputs": [],
   "source": [
    "# Arithmetic\n",
    "x = 10\n",
    "y = 3\n",
    "print(f\"Addition: {x + y}, Division: {x / y}, Modulus: {x % y}\")\n",
    "\n",
    "# Comparison\n",
    "print(f\"Is x greater than y? {x > y}\")"
   ]
  },
  {
   "cell_type": "markdown",
   "metadata": {},
   "source": [
    "### Conditionals\n",
    "Use `if`, `elif`, `else` for decision-making."
   ]
  },
  {
   "cell_type": "code",
   "execution_count": null,
   "metadata": {},
   "outputs": [],
   "source": [
    "score = 85\n",
    "if score >= 90:\n",
    "    print(\"Grade: A\")\n",
    "elif score >= 80:\n",
    "    print(\"Grade: B\")\n",
    "else:\n",
    "    print(\"Grade: C or below\")"
   ]
  },
  {
   "cell_type": "markdown",
   "metadata": {},
   "source": [
    "### Loops\n",
    "`for` loops iterate over sequences; `while` loops run until a condition is false."
   ]
  },
  {
   "cell_type": "code",
   "execution_count": null,
   "metadata": {},
   "outputs": [],
   "source": [
    "# For loop\n",
    "for i in range(5):\n",
    "    print(f\"For loop iteration: {i}\")\n",
    "\n",
    "# While loop\n",
    "count = 0\n",
    "while count < 3:\n",
    "    print(f\"While loop count: {count}\")\n",
    "    count += 1"
   ]
  },
  {
   "cell_type": "markdown",
   "metadata": {},
   "source": [
    "### Exercise 1\n",
    "**TODO**: \n",
    "1. Create a variable `temperature` with value 25.5.\n",
    "2. Write a conditional to print \"Warm\" if temperature is above 20, else \"Cool\".\n",
    "3. Use a for loop to print numbers 1 to 3."
   ]
  },
  {
   "cell_type": "code",
   "execution_count": null,
   "metadata": {},
   "outputs": [],
   "source": [
    "# Your code here\n"
   ]
  },
  {
   "cell_type": "markdown",
   "metadata": {},
   "source": [
    "**Solution**:"
   ]
  },
  {
   "cell_type": "code",
   "execution_count": null,
   "metadata": {},
   "outputs": [],
   "source": [
    "temperature = 25.5\n",
    "if temperature > 20:\n",
    "    print(\"Warm\")\n",
    "else:\n",
    "    print(\"Cool\")\n",
    "\n",
    "for i in range(1, 4):\n",
    "    print(i)"
   ]
  },
  {
   "cell_type": "markdown",
   "metadata": {},
   "source": [
    "## Section 2: Collections\n",
    "\n",
    "### Lists\n",
    "Lists are ordered, mutable collections."
   ]
  },
  {
   "cell_type": "code",
   "execution_count": null,
   "metadata": {},
   "outputs": [],
   "source": [
    "fruits = [\"apple\", \"banana\", \"orange\"]\n",
    "fruits.append(\"grape\")  # Add item\n",
    "print(f\"Fruits: {fruits}\")\n",
    "print(f\"First fruit: {fruits[0]}\")\n",
    "fruits[1] = \"kiwi\"  # Modify item\n",
    "print(f\"Modified fruits: {fruits}\")"
   ]
  },
  {
   "cell_type": "markdown",
   "metadata": {},
   "source": [
    "### Tuples\n",
    "Tuples are ordered, immutable collections."
   ]
  },
  {
   "cell_type": "code",
   "execution_count": null,
   "metadata": {},
   "outputs": [],
   "source": [
    "coordinates = (10, 20)\n",
    "print(f\"Coordinates: {coordinates}, X: {coordinates[0]}\")"
   ]
  },
  {
   "cell_type": "markdown",
   "metadata": {},
   "source": [
    "### Dictionaries\n",
    "Dictionaries store key-value pairs."
   ]
  },
  {
   "cell_type": "code",
   "execution_count": null,
   "metadata": {},
   "outputs": [],
   "source": [
    "student = {\"name\": \"Bob\", \"age\": 22, \"major\": \"Physics\"}\n",
    "print(f\"Student: {student}\")\n",
    "print(f\"Student name: {student['name']}\")\n",
    "student[\"grade\"] = \"A\"\n",
    "print(f\"Updated student: {student}\")"
   ]
  },
  {
   "cell_type": "markdown",
   "metadata": {},
   "source": [
    "### Sets\n",
    "Sets store unique, unordered items."
   ]
  },
  {
   "cell_type": "code",
   "execution_count": null,
   "metadata": {},
   "outputs": [],
   "source": [
    "numbers = {1, 2, 2, 3}\n",
    "print(f\"Set: {numbers}\")  # Duplicates removed\n",
    "numbers.add(4)\n",
    "print(f\"Updated set: {numbers}\")"
   ]
  },
  {
   "cell_type": "markdown",
   "metadata": {},
   "source": [
    "### Exercise 2\n",
    "**TODO**:\n",
    "1. Create a list `colors` with 3 colors.\n",
    "2. Create a dictionary `book` with keys `title` and `pages`.\n",
    "3. Create a set `unique_nums` from list `[1, 1, 2, 3, 3]`."
   ]
  },
  {
   "cell_type": "code",
   "execution_count": null,
   "metadata": {},
   "outputs": [],
   "source": [
    "# Your code here\n"
   ]
  },
  {
   "cell_type": "markdown",
   "metadata": {},
   "source": [
    "**Solution**:"
   ]
  },
  {
   "cell_type": "code",
   "execution_count": null,
   "metadata": {},
   "outputs": [],
   "source": [
    "colors = [\"red\", \"blue\", \"green\"]\n",
    "book = {\"title\": \"Python 101\", \"pages\": 200}\n",
    "unique_nums = set([1, 1, 2, 3, 3])\n",
    "print(colors, book, unique_nums)"
   ]
  },
  {
   "cell_type": "markdown",
   "metadata": {},
   "source": [
    "## Section 3: Functions\n",
    "\n",
    "Functions are reusable blocks of code with parameters and return values."
   ]
  },
  {
   "cell_type": "code",
   "execution_count": null,
   "metadata": {},
   "outputs": [],
   "source": [
    "def calculate_area(length, width):\n",
    "    \"\"\"Calculate area of a rectangle.\"\"\"\n",
    "    area = length * width\n",
    "    return area\n",
    "\n",
    "result = calculate_area(5, 3)\n",
    "print(f\"Area: {result}\")"
   ]
  },
  {
   "cell_type": "markdown",
   "metadata": {},
   "source": [
    "### Exercise 3\n",
    "**TODO**:\n",
    "1. Write a function `is_even` that takes a number and returns `True` if even, `False` otherwise.\n",
    "2. Call it with 4 and 7, print results."
   ]
  },
  {
   "cell_type": "code",
   "execution_count": null,
   "metadata": {},
   "outputs": [],
   "source": [
    "# Your code here\n"
   ]
  },
  {
   "cell_type": "markdown",
   "metadata": {},
   "source": [
    "**Solution**:"
   ]
  },
  {
   "cell_type": "code",
   "execution_count": null,
   "metadata": {},
   "outputs": [],
   "source": [
    "def is_even(num):\n",
    "    \"\"\"Check if a number is even.\"\"\"\n",
    "    return num % 2 == 0\n",
    "\n",
    "print(is_even(4))  # True\n",
    "print(is_even(7))  # False"
   ]
  },
  {
   "cell_type": "markdown",
   "metadata": {},
   "source": [
    "## Section 4: File I/O\n",
    "\n",
    "### Writing and Reading Text Files"
   ]
  },
  {
   "cell_type": "code",
   "execution_count": null,
   "metadata": {},
   "outputs": [],
   "source": [
    "# Write to a text file\n",
    "with open(\"output.txt\", \"w\") as file:\n",
    "    file.write(\"Hello, Python!\\nLearning file I/O.\")\n",
    "\n",
    "# Read from a text file\n",
    "with open(\"output.txt\", \"r\") as file:\n",
    "    content = file.read()\n",
    "print(f\"File content:\\n{content}\")"
   ]
  },
  {
   "cell_type": "markdown",
   "metadata": {},
   "source": [
    "### Reading a CSV File\n",
    "We'll read `sample_data.csv` later with Pandas."
   ]
  },
  {
   "cell_type": "markdown",
   "metadata": {},
   "source": [
    "### Exercise 4\n",
    "**TODO**:\n",
    "1. Write a list `items = ['pen', 'book', 'laptop']` to a file `items.txt`.\n",
    "2. Read and print the contents of `items.txt`."
   ]
  },
  {
   "cell_type": "code",
   "execution_count": null,
   "metadata": {},
   "outputs": [],
   "source": [
    "# Your code here\n"
   ]
  },
  {
   "cell_type": "markdown",
   "metadata": {},
   "source": [
    "**Solution**:"
   ]
  },
  {
   "cell_type": "code",
   "execution_count": null,
   "metadata": {},
   "outputs": [],
   "source": [
    "items = ['pen', 'book', 'laptop']\n",
    "with open(\"items.txt\", \"w\") as file:\n",
    "    for item in items:\n",
    "        file.write(item + \"\\n\")\n",
    "\n",
    "with open(\"items.txt\", \"r\") as file:\n",
    "    content = file.read()\n",
    "print(content)"
   ]
  },
  {
   "cell_type": "markdown",
   "metadata": {},
   "source": [
    "## Section 5: NumPy Basics\n",
    "\n",
    "NumPy is used for numerical computations with arrays."
   ]
  },
  {
   "cell_type": "code",
   "execution_count": null,
   "metadata": {},
   "outputs": [],
   "source": [
    "import numpy as np\n",
    "\n",
    "# Create arrays\n",
    "arr1 = np.array([1, 2, 3, 4])\n",
    "arr2 = np.array([[1, 2], [3, 4]])\n",
    "print(f\"1D Array: {arr1}, Shape: {arr1.shape}\")\n",
    "print(f\"2D Array:\\n{arr2}, Shape: {arr2.shape}\")\n",
    "\n",
    "# Indexing and slicing\n",
    "print(f\"First element: {arr1[0]}\")\n",
    "print(f\"Slice: {arr1[1:3]}\")\n",
    "\n",
    "# Basic operations\n",
    "print(f\"Array + 2: {arr1 + 2}\")\n",
    "print(f\"Array * 2: {arr1 * 2}\")\n",
    "\n",
    "# Statistics\n",
    "print(f\"Mean: {np.mean(arr1)}, Sum: {np.sum(arr1)}\")"
   ]
  },
  {
   "cell_type": "markdown",
   "metadata": {},
   "source": [
    "### Exercise 5\n",
    "**TODO**:\n",
    "1. Create a NumPy array `nums` with values `[10, 20, 30, 40, 50]`.\n",
    "2. Print the third element and the last two elements.\n",
    "3. Compute and print the mean and maximum."
   ]
  },
  {
   "cell_type": "code",
   "execution_count": null,
   "metadata": {},
   "outputs": [],
   "source": [
    "# Your code here\n"
   ]
  },
  {
   "cell_type": "markdown",
   "metadata": {},
   "source": [
    "**Solution**:"
   ]
  },
  {
   "cell_type": "code",
   "execution_count": null,
   "metadata": {},
   "outputs": [],
   "source": [
    "nums = np.array([10, 20, 30, 40, 50])\n",
    "print(f\"Third element: {nums[2]}\")\n",
    "print(f\"Last two elements: {nums[-2:]}\")\n",
    "print(f\"Mean: {np.mean(nums)}, Max: {np.max(nums)}\")"
   ]
  },
  {
   "cell_type": "markdown",
   "metadata": {},
   "source": [
    "## Section 6: Pandas Basics\n",
    "\n",
    "Pandas is used for data analysis with Series (1D) and DataFrames (2D)."
   ]
  },
  {
   "cell_type": "code",
   "execution_count": null,
   "metadata": {},
   "outputs": [],
   "source": [
    "import pandas as pd\n",
    "\n",
    "# Create a Series\n",
    "series = pd.Series([10, 20, 30], index=['a', 'b', 'c'])\n",
    "print(f\"Series:\\n{series}\")\n",
    "\n",
    "# Create a DataFrame\n",
    "data = {'Name': ['Alice', 'Bob', 'Charlie'], 'Age': [25, 30, 35], 'City': ['New York', 'London', 'Paris']}\n",
    "df = pd.DataFrame(data)\n",
    "print(f\"DataFrame:\\n{df}\")\n",
    "\n",
    "# Read CSV\n",
    "df_csv = pd.read_csv(\"sample_data.csv\")\n",
    "print(f\"CSV Data:\\n{df_csv}\")\n",
    "\n",
    "# Inspect data\n",
    "print(f\"Columns: {df_csv.columns}\")\n",
    "print(f\"Info:\\n{df_csv.info()}\")\n",
    "\n",
    "# Select and filter\n",
    "print(f\"Names:\\n{df_csv['name']}\")\n",
    "print(f\"Age > 25:\\n{df_csv[df_csv['age'] > 25]}\")\n",
    "\n",
    "# Groupby and aggregation\n",
    "print(f\"Average salary by department:\\n{df_csv.groupby('department')['salary'].mean()}\")"
   ]
  },
  {
   "cell_type": "markdown",
   "metadata": {},
   "source": [
    "### Exercise 6\n",
    "**TODO**:\n",
    "1. Create a DataFrame `df_new` with columns `Product` (3 items) and `Price` (3 values).\n",
    "2. Filter rows where `Price` > 20.\n",
    "3. Read `sample_data.csv` and compute the maximum salary."
   ]
  },
  {
   "cell_type": "code",
   "execution_count": null,
   "metadata": {},
   "outputs": [],
   "source": [
    "# Your code here\n"
   ]
  },
  {
   "cell_type": "markdown",
   "metadata": {},
   "source": [
    "**Solution**:"
   ]
  },
  {
   "cell_type": "code",
   "execution_count": null,
   "metadata": {},
   "outputs": [],
   "source": [
    "df_new = pd.DataFrame({'Product': ['Laptop', 'Mouse', 'Keyboard'], 'Price': [1000, 15, 30]})\n",
    "print(f\"DataFrame:\\n{df_new}\")\n",
    "print(f\"Price > 20:\\n{df_new[df_new['Price'] > 20]}\")\n",
    "\n",
    "df_csv = pd.read_csv(\"sample_data.csv\")\n",
    "print(f\"Max salary: {df_csv['salary'].max()}\")"
   ]
  },
  {
   "cell_type": "markdown",
   "metadata": {},
   "source": [
    "## Section 7: Simple Visualization (Optional)\n",
    "\n",
    "Let's plot a bar chart of salaries by department using Pandas and Matplotlib."
   ]
  },
  {
   "cell_type": "code",
   "execution_count": null,
   "metadata": {},
   "outputs": [],
   "source": [
    "import matplotlib.pyplot as plt\n",
    "\n",
    "df_csv = pd.read_csv(\"sample_data.csv\")\n",
    "df_csv.groupby('department')['salary'].mean().plot(kind='bar', title='Average Salary by Department')\n",
    "plt.ylabel('Salary')\n",
    "plt.show()"
   ]
  },
  {
   "cell_type": "markdown",
   "metadata": {},
   "source": [
    "## Section 8: Summary and Next Steps\n",
    "\n",
    "You have learned:\n",
    "- Python basics: variables, conditionals, loops\n",
    "- Collections: lists, tuples, dictionaries, sets\n",
    "- Functions with docstrings\n",
    "- File I/O for text and CSV\n",
    "- NumPy arrays, indexing, and statistics\n",
    "- Pandas for data manipulation and visualization\n",
    "\n",
    "**Next Steps**:\n",
    "- Explore more NumPy functions (e.g., `np.linspace`, `np.random`)\n",
    "- Learn advanced Pandas operations (joins, merging)\n",
    "- Try more complex visualizations with Matplotlib or Seaborn"
   ]
  }
 ],
 "metadata": {
  "kernelspec": {
   "display_name": ".venv (3.13.3)",
   "language": "python",
   "name": "python3"
  },
  "language_info": {
   "codemirror_mode": {
    "name": "ipython",
    "version": 3
   },
   "file_extension": ".py",
   "mimetype": "text/x-python",
   "name": "python",
   "nbconvert_exporter": "python",
   "pygments_lexer": "ipython3",
   "version": "3.13.3"
  }
 },
 "nbformat": 4,
 "nbformat_minor": 4
}
